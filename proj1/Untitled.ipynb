{
 "cells": [
  {
   "cell_type": "code",
   "execution_count": 1,
   "metadata": {},
   "outputs": [],
   "source": [
    "import pandas as pd\n",
    "import numpy as np\n",
    "from sklearn import linear_model,ensemble\n",
    "from evaluation import *\n",
    "from data_processing import *\n",
    "from sklearn import preprocessing, model_selection,pipeline,metrics,externals"
   ]
  },
  {
   "cell_type": "code",
   "execution_count": 2,
   "metadata": {},
   "outputs": [
    {
     "name": "stdout",
     "output_type": "stream",
     "text": [
      "=================\n",
      "Loading data ...\n",
      "Done\n",
      "\n"
     ]
    }
   ],
   "source": [
    "# Read csv files\n",
    "\n",
    "print(\"=================\")\n",
    "print(\"Loading data ...\")\n",
    "\n",
    "train = pd.read_csv(\"data/train.csv\", index_col=0)\n",
    "test = pd.read_csv(\"data/test.csv\", index_col=0)\n",
    "train_features = [\n",
    "    \"ps_car_13\",             \n",
    "\t\"ps_reg_03\",         \n",
    "\t\"ps_ind_05_cat\", \n",
    "\t\"ps_ind_03\", \n",
    "\t\"ps_ind_15\", \n",
    "\t\"ps_reg_02\", \n",
    "\t\"ps_car_14\", \n",
    "\t\"ps_car_12\", \n",
    "\t\"ps_car_01_cat\",  \n",
    "\t\"ps_car_07_cat\", \n",
    "\t\"ps_ind_17_bin\", \n",
    "\t\"ps_car_03_cat\", \n",
    "\t\"ps_reg_01\", \n",
    "\t\"ps_car_15\", \n",
    "\t\"ps_ind_01\",  \n",
    "\t\"ps_ind_16_bin\", \n",
    "\t\"ps_ind_07_bin\",  \n",
    "\t\"ps_car_06_cat\", \n",
    "\t\"ps_car_04_cat\",  \n",
    "\t\"ps_ind_06_bin\", \n",
    "\t\"ps_car_09_cat\",  \n",
    "\t\"ps_car_02_cat\",  \n",
    "\t\"ps_ind_02_cat\", \n",
    "\t\"ps_car_11\",\n",
    "\t\"ps_car_05_cat\",  \n",
    "\t\"ps_ind_08_bin\",  \n",
    "\t\"ps_car_08_cat\", \n",
    "\t\"ps_ind_09_bin\",  \n",
    "\t\"ps_ind_04_cat\",  \n",
    "\t\"ps_ind_18_bin\",\n",
    "\t\"ps_ind_12_bin\",\n",
    "\t\"ps_ind_14\",\n",
    "\t\"target\",\n",
    "]\n",
    "\n",
    "train = train[train_features]\n",
    "test = test[train_features[:-1]]\n",
    "\n",
    "print(\"Done\\n\")"
   ]
  },
  {
   "cell_type": "code",
   "execution_count": 3,
   "metadata": {},
   "outputs": [
    {
     "name": "stdout",
     "output_type": "stream",
     "text": [
      "=================\n",
      "Processing data ...\n",
      "Done\n",
      "\n"
     ]
    }
   ],
   "source": [
    "print(\"=================\")\n",
    "print(\"Processing data ...\")\n",
    "\n",
    "# Turn DataFrames into arrays for scikit-learn\n",
    "# Forget the target column in X\n",
    "train_0 = train.drop(\"target\", axis=1)\n",
    "\n",
    "name_to_index = {name: train_0.columns.get_loc(name) for name in train_0.columns}\n",
    "\n",
    "X0 = np.array(train_0)\n",
    "y0 = np.array(train[\"target\"])\n",
    "\n",
    "X_test = np.array(test)\n",
    "\n",
    "print(\"Done\\n\")"
   ]
  },
  {
   "cell_type": "code",
   "execution_count": 4,
   "metadata": {},
   "outputs": [
    {
     "name": "stdout",
     "output_type": "stream",
     "text": [
      "=================\n",
      "Setting the pipeline ...\n",
      "Done\n",
      "\n"
     ]
    }
   ],
   "source": [
    "print(\"=================\")\n",
    "print(\"Setting the pipeline ...\")\n",
    "\n",
    "# Define the num pipeline\n",
    "num_selector = filter_num_transform(name_to_index)\n",
    "num_imputer = preprocessing.Imputer(missing_values=-1, strategy=\"mean\")\n",
    "num_pipeline = pipeline.Pipeline([\n",
    "    (\"selector\", num_selector),\n",
    "    (\"imputer\", num_imputer),\n",
    "    (\"scaler\", preprocessing.StandardScaler())\n",
    "])\n",
    "\n",
    "# Define the bin pipeline\n",
    "bin_selector = filter_bin_transform(name_to_index)\n",
    "bin_imputer = preprocessing.Imputer(missing_values=-1, strategy=\"most_frequent\")\n",
    "bin_pipeline = pipeline.Pipeline([\n",
    "    (\"selector\", bin_selector),\n",
    "    (\"imputer\", bin_imputer)\n",
    "])\n",
    "\n",
    "# Define the cat pipeline\n",
    "cat_selector = filter_cat_transform(name_to_index)\n",
    "cat_imputer = preprocessing.Imputer(missing_values=-1, strategy=\"most_frequent\")\n",
    "cat_pipeline = pipeline.Pipeline([\n",
    "    (\"selector\", cat_selector),\n",
    "    (\"imputer\", cat_imputer),\n",
    "    (\"binarizer\", preprocessing.OneHotEncoder())\n",
    "])\n",
    "\n",
    "preprocessor = pipeline.FeatureUnion([(\"num\", num_pipeline), (\"bin\", bin_pipeline), (\"cat\", cat_pipeline)])\n",
    "\n",
    "base = ensemble.GradientBoostingClassifier(verbose=2)\n",
    "pipe = pipeline.Pipeline([\n",
    "    (\"preprocessor\", preprocessor),\n",
    "    (\"clf\",base)\n",
    "])\n",
    "\n",
    "cv = model_selection.StratifiedKFold(n_splits=4)\n",
    "scorer = metrics.make_scorer(gini_scorer,needs_proba=True)\n",
    "print(\"Done\\n\")"
   ]
  },
  {
   "cell_type": "code",
   "execution_count": 5,
   "metadata": {},
   "outputs": [],
   "source": [
    "cat_pipeline.fit(X0)\n",
    "Xt = cat_pipeline.transform(X0)"
   ]
  },
  {
   "cell_type": "code",
   "execution_count": 6,
   "metadata": {},
   "outputs": [
    {
     "name": "stdout",
     "output_type": "stream",
     "text": [
      "[CV]  ................................................................\n",
      "[CV]  ................................................................\n",
      "[CV]  ................................................................\n",
      "[CV]  ................................................................\n",
      "[CV] ...................... , score=0.26422161739067457, total=  19.3s\n"
     ]
    },
    {
     "name": "stderr",
     "output_type": "stream",
     "text": [
      "[Parallel(n_jobs=4)]: Done   1 tasks      | elapsed:   19.6s\n"
     ]
    },
    {
     "name": "stdout",
     "output_type": "stream",
     "text": [
      "[CV] ...................... , score=0.25214904820040074, total=  19.8s\n"
     ]
    },
    {
     "name": "stderr",
     "output_type": "stream",
     "text": [
      "[Parallel(n_jobs=4)]: Done   2 out of   4 | elapsed:   20.4s remaining:   20.4s\n"
     ]
    },
    {
     "name": "stdout",
     "output_type": "stream",
     "text": [
      "[CV] ...................... , score=0.24654215947410754, total=  19.8s\n",
      "[CV] ...................... , score=0.25490013194964944, total=  20.1s\n"
     ]
    },
    {
     "name": "stderr",
     "output_type": "stream",
     "text": [
      "[Parallel(n_jobs=4)]: Done   4 out of   4 | elapsed:   20.9s remaining:    0.0s\n",
      "[Parallel(n_jobs=4)]: Done   4 out of   4 | elapsed:   20.9s finished\n"
     ]
    }
   ],
   "source": [
    "pipe = pipeline.Pipeline([\n",
    "    (\"preprocessor\", preprocessor),\n",
    "    (\"clf\",linear_model.LogisticRegression(C=0.1, class_weight=\"balanced\"))\n",
    "])\n",
    "cross_val = model_selection.cross_val_score(pipe, X0, y0, cv=cv, scoring=scorer, verbose=10, n_jobs=4)\n",
    "# cross_val.fit(X0, y0)"
   ]
  }
 ],
 "metadata": {
  "kernelspec": {
   "display_name": "Python 3",
   "language": "python",
   "name": "python3"
  },
  "language_info": {
   "codemirror_mode": {
    "name": "ipython",
    "version": 3
   },
   "file_extension": ".py",
   "mimetype": "text/x-python",
   "name": "python",
   "nbconvert_exporter": "python",
   "pygments_lexer": "ipython3",
   "version": "3.6.3"
  }
 },
 "nbformat": 4,
 "nbformat_minor": 2
}
