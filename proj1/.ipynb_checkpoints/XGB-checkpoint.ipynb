{
 "cells": [
  {
   "cell_type": "code",
   "execution_count": 3,
   "metadata": {},
   "outputs": [],
   "source": [
    "import pandas as pd\n",
    "import numpy as np\n",
    "import xgboost\n",
    "from sklearn import linear_model, ensemble, tree\n",
    "from evaluation import *\n",
    "from data_processing import *\n",
    "from sklearn import preprocessing, model_selection,pipeline,metrics,externals\n",
    "from sklearn_pandas.pipeline import TransformerPipeline"
   ]
  },
  {
   "cell_type": "code",
   "execution_count": 2,
   "metadata": {},
   "outputs": [
    {
     "name": "stdout",
     "output_type": "stream",
     "text": [
      "=================\n",
      "Loading data ...\n",
      "Done\n",
      "\n"
     ]
    }
   ],
   "source": [
    "# Read csv files\n",
    "\n",
    "print(\"=================\")\n",
    "print(\"Loading data ...\")\n",
    "\n",
    "train = pd.read_csv(\"data/train.csv\", index_col=0)\n",
    "test = pd.read_csv(\"data/test.csv\", index_col=0)\n",
    "\n",
    "print(\"Done\\n\")"
   ]
  },
  {
   "cell_type": "code",
   "execution_count": 5,
   "metadata": {},
   "outputs": [
    {
     "name": "stdout",
     "output_type": "stream",
     "text": [
      "=================\n",
      "Processing data ...\n",
      "Done\n",
      "\n"
     ]
    }
   ],
   "source": [
    "print(\"=================\")\n",
    "print(\"Processing data ...\")\n",
    "\n",
    "# Turn DataFrames into arrays for scikit-learn\n",
    "# Forget the target column in X\n",
    "train = train.drop(train.columns[train.columns.str.contains(\"calc\")], axis=1)\n",
    "train_0 = train.drop(\"target\", axis=1)\n",
    "\n",
    "name_to_index = {name: train_0.columns.get_loc(name) for name in train_0.columns}\n",
    "\n",
    "X0 = np.array(train_0)\n",
    "y0 = np.array(train[\"target\"])\n",
    "\n",
    "X_test = np.array(test)\n",
    "\n",
    "print(\"Done\\n\")"
   ]
  },
  {
   "cell_type": "code",
   "execution_count": 6,
   "metadata": {},
   "outputs": [
    {
     "name": "stdout",
     "output_type": "stream",
     "text": [
      "=================\n",
      "Setting the pipeline ...\n",
      "Done\n",
      "\n"
     ]
    }
   ],
   "source": [
    "print(\"=================\")\n",
    "print(\"Setting the pipeline ...\")\n",
    "\n",
    "# Define the num pipeline\n",
    "num_selector = filter_num_transform(name_to_index)\n",
    "num_imputer = preprocessing.Imputer(missing_values=-1, strategy=\"mean\")\n",
    "num_pipeline = pipeline.Pipeline([\n",
    "    (\"selector\", num_selector),\n",
    "    (\"imputer\", num_imputer),\n",
    "    (\"scaler\", preprocessing.StandardScaler())\n",
    "])\n",
    "\n",
    "# Define the bin pipeline\n",
    "bin_selector = filter_bin_transform(name_to_index)\n",
    "bin_imputer = preprocessing.Imputer(missing_values=-1, strategy=\"most_frequent\")\n",
    "bin_pipeline = pipeline.Pipeline([\n",
    "    (\"selector\", bin_selector),\n",
    "    (\"imputer\", bin_imputer)\n",
    "])\n",
    "\n",
    "# Define the cat pipeline\n",
    "cat_selector = filter_cat_transform(name_to_index)\n",
    "cat_imputer = preprocessing.Imputer(missing_values=-1, strategy=\"most_frequent\")\n",
    "cat_pipeline = pipeline.Pipeline([\n",
    "    (\"selector\", cat_selector),\n",
    "    (\"imputer\", cat_imputer),\n",
    "    (\"binarizer\", preprocessing.OneHotEncoder())\n",
    "])\n",
    "\n",
    "preprocessor = pipeline.FeatureUnion([(\"num\", num_pipeline), (\"bin\", bin_pipeline), (\"cat\", cat_pipeline)])\n",
    "\n",
    "base = ensemble.GradientBoostingClassifier(verbose=2)\n",
    "pipe = pipeline.Pipeline([\n",
    "    (\"preprocessor\", preprocessor),\n",
    "    (\"clf\",base)\n",
    "])\n",
    "\n",
    "cv = model_selection.StratifiedKFold(n_splits=4)\n",
    "scorer = metrics.make_scorer(gini_scorer,needs_proba=True)\n",
    "print(\"Done\\n\")"
   ]
  },
  {
   "cell_type": "code",
   "execution_count": 7,
   "metadata": {
    "scrolled": true
   },
   "outputs": [
    {
     "name": "stdout",
     "output_type": "stream",
     "text": [
      "XGBClassifier(base_score=0.5, colsample_bylevel=1, colsample_bytree=1,\n",
      "       gamma=0, learning_rate=0.1, max_delta_step=0, max_depth=3,\n",
      "       min_child_weight=1, missing=None, n_estimators=100, nthread=-1,\n",
      "       objective='binary:logistic', reg_alpha=0, reg_lambda=1,\n",
      "       scale_pos_weight=1, seed=0, silent=True, subsample=1)\n"
     ]
    }
   ],
   "source": [
    "clf = xgboost.XGBClassifier(max_depth=4, n_estimators=400, learning_rate=0.07)\n",
    "# clf = xgboost.XGBClassifier(learning_rate=0.01, n_estimators=300, nthread=4, max_depth=16)\n",
    "\n",
    "pipe = pipeline.Pipeline([\n",
    "    (\"preprocessor\", preprocessor),\n",
    "    (\"clf\", clf)\n",
    "])\n",
    "print(clf)"
   ]
  },
  {
   "cell_type": "code",
   "execution_count": 8,
   "metadata": {},
   "outputs": [
    {
     "name": "stdout",
     "output_type": "stream",
     "text": [
      "[CV]  ................................................................\n",
      "[CV]  ................................................................\n",
      "[CV]  ................................................................\n",
      "[CV]  ................................................................\n",
      "[CV] ........................ , score=0.278275383498173, total= 1.7min\n",
      "[CV] ........................ , score=0.280650159281337, total= 1.7min\n",
      "[CV] ...................... , score=0.26945143863430343, total= 1.7min\n"
     ]
    },
    {
     "name": "stderr",
     "output_type": "stream",
     "text": [
      "[Parallel(n_jobs=4)]: Done   1 tasks      | elapsed:  1.8min\n",
      "[Parallel(n_jobs=4)]: Done   2 out of   4 | elapsed:  1.8min remaining:  1.8min\n"
     ]
    },
    {
     "name": "stdout",
     "output_type": "stream",
     "text": [
      "[CV] ....................... , score=0.2593114689307156, total= 1.7min\n"
     ]
    },
    {
     "name": "stderr",
     "output_type": "stream",
     "text": [
      "[Parallel(n_jobs=4)]: Done   4 out of   4 | elapsed:  1.8min remaining:    0.0s\n",
      "[Parallel(n_jobs=4)]: Done   4 out of   4 | elapsed:  1.8min finished\n"
     ]
    }
   ],
   "source": [
    "cross_val = model_selection.cross_val_score(pipe, X0, y0, cv=cv, scoring=scorer, verbose=10, n_jobs=4)"
   ]
  },
  {
   "cell_type": "code",
   "execution_count": 20,
   "metadata": {},
   "outputs": [
    {
     "name": "stdout",
     "output_type": "stream",
     "text": [
      "0.299570483301\n"
     ]
    }
   ],
   "source": [
    "pipe.fit(X0, y0)\n",
    "print(gini_normalized(y0, pipe.predict_proba(X0)[:, 1]))"
   ]
  },
  {
   "cell_type": "code",
   "execution_count": 19,
   "metadata": {},
   "outputs": [
    {
     "data": {
      "text/plain": [
       "array([ 0.035499  ,  0.11989284,  0.        ,  0.06028131,  0.05291359,\n",
       "        0.04219692,  0.06363028,  0.00401875,  0.00468855,  0.09845947,\n",
       "        0.05090422,  0.01004689,  0.00468855,  0.00334896,  0.00401875,\n",
       "        0.00133958,  0.00200938,  0.00133958,  0.00468855,  0.00535834,\n",
       "        0.00334896,  0.00401875,  0.00200938,  0.00066979,  0.00468855,\n",
       "        0.00602813,  0.02478232,  0.01540522,  0.00535834,  0.00803751,\n",
       "        0.        ,  0.        ,  0.00200938,  0.        ,  0.01607502,\n",
       "        0.06229069,  0.        ,  0.00133958,  0.        ,  0.        ,\n",
       "        0.00133958,  0.        ,  0.00133958,  0.00334896,  0.0087073 ,\n",
       "        0.        ,  0.00133958,  0.00468855,  0.        ,  0.07702612,\n",
       "        0.        ,  0.01473543,  0.00468855,  0.00200938,  0.        ,\n",
       "        0.00803751,  0.        ,  0.        ,  0.        ,  0.        ,\n",
       "        0.00334896,  0.        ,  0.00468855,  0.0174146 ,  0.        ,\n",
       "        0.00736772,  0.00200938,  0.00133958,  0.00133958,  0.        ,\n",
       "        0.        ,  0.        ,  0.00267917,  0.00066979,  0.01339585,\n",
       "        0.        ,  0.        ,  0.        ,  0.        ,  0.        ,\n",
       "        0.        ,  0.        ,  0.        ,  0.        ,  0.00133958,\n",
       "        0.        ,  0.        ,  0.        ,  0.00133958,  0.00133958,\n",
       "        0.00133958,  0.        ,  0.        ,  0.01004689,  0.        ,\n",
       "        0.00066979,  0.        ,  0.        ,  0.        ,  0.        ,\n",
       "        0.        ,  0.00334896,  0.02210315,  0.        ,  0.        ,\n",
       "        0.        ,  0.00669792,  0.02009377,  0.00066979,  0.00066979,\n",
       "        0.        ,  0.        ,  0.        ,  0.        ,  0.00133958,\n",
       "        0.        ,  0.        ,  0.00133958,  0.        ,  0.        ,\n",
       "        0.        ,  0.        ,  0.        ,  0.        ,  0.        ,\n",
       "        0.        ,  0.        ,  0.00066979,  0.        ,  0.        ,\n",
       "        0.        ,  0.        ,  0.        ,  0.        ,  0.00200938,\n",
       "        0.        ,  0.00066979,  0.        ,  0.        ,  0.00066979,\n",
       "        0.        ,  0.00066979,  0.        ,  0.        ,  0.00200938,\n",
       "        0.        ,  0.00133958,  0.        ,  0.        ,  0.        ,\n",
       "        0.        ,  0.00066979,  0.        ,  0.        ,  0.00066979,\n",
       "        0.        ,  0.        ,  0.        ,  0.        ,  0.00200938,\n",
       "        0.        ,  0.        ,  0.        ,  0.        ,  0.        ,\n",
       "        0.        ,  0.        ,  0.        ,  0.        ,  0.        ,\n",
       "        0.        ,  0.        ,  0.        ,  0.        ,  0.00066979,\n",
       "        0.        ,  0.        ,  0.00066979,  0.00133958,  0.        ,\n",
       "        0.        ,  0.        ,  0.        ,  0.        ,  0.        ,\n",
       "        0.        ,  0.        ,  0.        ,  0.00267917,  0.        ,\n",
       "        0.        ,  0.        ,  0.        ,  0.        ,  0.        ,\n",
       "        0.        ,  0.        ,  0.        ,  0.        ,  0.        ,\n",
       "        0.        ,  0.        ,  0.        ,  0.00133958,  0.        ,\n",
       "        0.        ,  0.00133958,  0.00066979,  0.        ,  0.        ,\n",
       "        0.        ,  0.        ,  0.        ,  0.00066979,  0.        ,\n",
       "        0.        ,  0.        ,  0.        ], dtype=float32)"
      ]
     },
     "execution_count": 19,
     "metadata": {},
     "output_type": "execute_result"
    }
   ],
   "source": [
    "clf.feature_importances_"
   ]
  },
  {
   "cell_type": "code",
   "execution_count": 21,
   "metadata": {},
   "outputs": [
    {
     "name": "stdout",
     "output_type": "stream",
     "text": [
      "=================\n",
      "Predicting for submission ...\n",
      "Done\n",
      "\n"
     ]
    },
    {
     "data": {
      "text/plain": [
       "['XGB.pkl']"
      ]
     },
     "execution_count": 21,
     "metadata": {},
     "output_type": "execute_result"
    }
   ],
   "source": [
    "print(\"=================\")\n",
    "print(\"Predicting for submission ...\")\n",
    "y_test_p = pipe.predict_proba(X_test)[:,1]\n",
    "prediction = pd.DataFrame(\n",
    "    index=test.index,\n",
    "    data=np.round(y_test_p, 3),\n",
    "    columns=[\"target\"])\n",
    "prediction.to_csv(\"data/submission.csv\")\n",
    "print(\"Done\\n\")\n",
    "\n",
    "externals.joblib.dump(clf,\"XGB.pkl\")"
   ]
  }
 ],
 "metadata": {
  "celltoolbar": "Raw Cell Format",
  "kernelspec": {
   "display_name": "Python 3",
   "language": "python",
   "name": "python3"
  },
  "language_info": {
   "codemirror_mode": {
    "name": "ipython",
    "version": 3
   },
   "file_extension": ".py",
   "mimetype": "text/x-python",
   "name": "python",
   "nbconvert_exporter": "python",
   "pygments_lexer": "ipython3",
   "version": "3.6.3"
  }
 },
 "nbformat": 4,
 "nbformat_minor": 2
}
